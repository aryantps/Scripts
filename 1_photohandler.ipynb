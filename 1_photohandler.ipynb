{
 "cells": [
  {
   "cell_type": "code",
   "execution_count": 2,
   "metadata": {},
   "outputs": [],
   "source": [
    "import os \n",
    "import re\n",
    "import shutil\n",
    "import hashlib"
   ]
  },
  {
   "cell_type": "code",
   "execution_count": 3,
   "metadata": {},
   "outputs": [
    {
     "name": "stdout",
     "output_type": "stream",
     "text": [
      "posix\n"
     ]
    }
   ],
   "source": [
    "print(os.name)\n",
    "?hashlib"
   ]
  },
  {
   "cell_type": "code",
   "execution_count": null,
   "metadata": {},
   "outputs": [],
   "source": [
    "os.walk(os.getcwd())\n",
    "for subdir, dirs, files in os.walk(os.getcwd()):\n",
    "    for file in files:\n",
    "    #print('subdir : ',subdir)\n",
    "    #print('dirs : ',dirs)\n",
    "    #print('files :',files)\n",
    "        if (os.path.join(subdir, file))[-3:]=='jpg':\n",
    "            print((os.path.join(subdir, file)))"
   ]
  },
  {
   "cell_type": "code",
   "execution_count": null,
   "metadata": {},
   "outputs": [],
   "source": [
    "src = \"\"                          #\"/Users/Me/Downloads/takeouts/\"\n",
    "dest = \"\"                         #\"/Volumes/Data/pyphotos/\"\n",
    "formats = ['jpg','EIC','mp4','avi','peg']     #['.jpg', '.jpeg', '.png', '.webp', '.bmp', '.tif', '.tiff', '.svg', '.heic','.mp4', '.gif', '.mov', '.webm', '.avi', '.wmv', '.rm', '.mpg', '.mpe', '.mpeg', '.m4v']\n",
    "for subdir, dirs, files in os.walk(src):\n",
    "    for file in files:\n",
    "        if (os.path.join(subdir, file))[-3:] in formats:\n",
    "            print(file)\n",
    "            shutil.copy(os.path.join(subdir, file),dest)"
   ]
  },
  {
   "cell_type": "code",
   "execution_count": null,
   "metadata": {},
   "outputs": [],
   "source": [
    "def chunk_reader(fobj, chunk_size=1024):\n",
    "    \"\"\"Generator that reads a file in chunks of bytes\"\"\"\n",
    "    while True:\n",
    "        chunk = fobj.read(chunk_size)\n",
    "        if not chunk:\n",
    "            return\n",
    "        yield chunk\n",
    "\n",
    "def check_for_duplicates(paths, hash=hashlib.sha1):\n",
    "    hashes = {}\n",
    "    for path in paths:\n",
    "        for dirpath, dirnames, filenames in os.walk(path):\n",
    "            for filename in filenames:\n",
    "                full_path = os.path.join(dirpath, filename)\n",
    "                hashobj = hash()\n",
    "                for chunk in chunk_reader(open(full_path, 'rb')):\n",
    "                    hashobj.update(chunk)\n",
    "                file_id = (hashobj.digest(), os.path.getsize(full_path))\n",
    "                duplicate = hashes.get(file_id, None)\n",
    "                if duplicate:\n",
    "                    print(\"Duplicate found: {} and {}\".format(full_path, duplicate))\n",
    "                    #os.remove(duplicate)\n",
    "                else:\n",
    "                    hashes[file_id] = full_path\n",
    "\n",
    "paths = ['','']                        #[\"/Volumes/Data/pyphotos/takeout3\",\"/Volumes/Data/pyphotos/takeout13\"]               \n",
    "check_for_duplicates(paths)\n",
    "\n"
   ]
  }
 ],
 "metadata": {
  "kernelspec": {
   "display_name": "Python 3",
   "language": "python",
   "name": "python3"
  },
  "language_info": {
   "codemirror_mode": {
    "name": "ipython",
    "version": 3
   },
   "file_extension": ".py",
   "mimetype": "text/x-python",
   "name": "python",
   "nbconvert_exporter": "python",
   "pygments_lexer": "ipython3",
   "version": "3.7.7"
  }
 },
 "nbformat": 4,
 "nbformat_minor": 4
}
