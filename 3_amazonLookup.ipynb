{
 "cells": [
  {
   "cell_type": "code",
   "execution_count": 10,
   "metadata": {},
   "outputs": [],
   "source": [
    "import urllib.request, urllib.parse, urllib.error\n",
    "from bs4 import BeautifulSoup\n",
    "import ssl\n",
    "import time"
   ]
  },
  {
   "cell_type": "code",
   "execution_count": 11,
   "metadata": {},
   "outputs": [],
   "source": [
    "history = {}\n",
    "def update():\n",
    "    if lookup_amazon(url):\n",
    "        dic,ASIN = lookup_amazon(url)\n",
    "        history.update({ASIN : dic})\n",
    "        history[ASIN] = dic\n",
    "    return history"
   ]
  },
  {
   "cell_type": "code",
   "execution_count": 12,
   "metadata": {},
   "outputs": [],
   "source": [
    "def lookup_amazon(url):\n",
    "    curr_clock = time.localtime() \n",
    "    curr_time = str(time.strftime(\"%H:%M:%S\", curr_clock)) +\" \"+ str(time.strftime(\"%D\", curr_clock))\n",
    "\n",
    "    # Ignore SSL certificate errors\n",
    "    ctx = ssl.create_default_context()\n",
    "    ctx.check_hostname = False\n",
    "    ctx.verify_mode = ssl.CERT_NONE\n",
    "\n",
    "    hdr = {'User-Agent' : 'Mozilla/5.0 (Macintosh; Intel Mac OS X 10_15_3) AppleWebKit/537.36 (KHTML, like Gecko) Chrome/84.0.4147.89 Safari/537.36',\n",
    "          'accept': 'text/html,application/xhtml+xml,application/xml;q=0.9,image/webp,image/apng,*/*;q=0.8,application/signed-exchange;v=b3;q=0.9'}\n",
    "\n",
    "    try:\n",
    "        req = urllib.request.Request(url, headers=hdr)\n",
    "        html = urllib.request.urlopen(req, context=ctx).read()\n",
    "    except urllib.error.HTTPError as e:\n",
    "        print('└──URLError: {}'.format(e.reason))\n",
    "        return None\n",
    "    #req = urllib.request.Request(url, headers=hdr)\n",
    "    #html = urllib.request.urlopen(req, context=ctx).read()\n",
    "    soup = BeautifulSoup(html, 'html.parser')\n",
    "    #while soup.script:\n",
    "        #soup.script.replaceWith(' ')\n",
    "    #while soup.link:\n",
    "        #soup.link.replaceWith(' ')\n",
    "    soup.script.decompose()\n",
    "    soup.link.decompose()\n",
    "    soup.img.decompose()\n",
    "    #soup.iframe.decompose()\n",
    "    \n",
    "    dic = {}\n",
    "    ASIN = soup.find(id=\"cerberus-data-metrics\").attrs['data-asin'] if(soup.find(id=\"cerberus-data-metrics\")) else None\n",
    "    if (ASIN is None):\n",
    "        print('└──INVALID_ASIN This item must have been removed ')\n",
    "        return None\n",
    "    dic['ProductType'] = soup.find(class_='zg_hrsr_ladder').text[3:] if(soup.find(class_='zg_hrsr_ladder')) else None\n",
    "    dic['Time'] = curr_time\n",
    "    #dic['ASIN'] = soup.find(id=\"cerberus-data-metrics\").attrs['data-asin'] if(soup.find(id=\"cerberus-data-metrics\")) else None#ASIN for Amazon Standard Identification Number --a unique code identify it\n",
    "    dic['Product'] = soup.find(id=\"productTitle\").text[8:-7] if (soup.find(id=\"productTitle\")) else None\n",
    "    dic['By'] = soup.find(id='bylineInfo').text if (soup.find(id='bylineInfo')) else None\n",
    "    dic['URL'] = url\n",
    "    dic['Rating'] = soup.find(class_='a-icon-alt').text if(soup.find(class_='a-icon-alt')) else None\n",
    "    dic['MRP'] = soup.find(class_=['priceBlockStrikePriceString', 'a-text-strike']).text[3:-1] if (soup.find(class_=['priceBlockStrikePriceString', 'a-text-strike'])) else None\n",
    "    dic['Price'] = soup.find(id='priceblock_ourprice').text[2:-1] if (soup.find(id='priceblock_ourprice')) else None  \n",
    "    dic['dealPrice'] = soup.find(id='priceblock_dealprice').text[2:-1] if (soup.find(id='priceblock_dealprice')) else None\n",
    "    dic['InStock'] = 'yes' if (soup.find(class_='a-size-medium a-color-success')) else 'no'\n",
    "        \n",
    "    \n",
    "    return dic,ASIN\n",
    "\n",
    "#lookup_amazon('https://www.amazon.in/gp/product/B07HGLBZ5R/')   "
   ]
  },
  {
   "cell_type": "code",
   "execution_count": 13,
   "metadata": {},
   "outputs": [
    {
     "name": "stdout",
     "output_type": "stream",
     "text": [
      "1. Checking URL\n",
      "2. Checking URL\n",
      "3. Checking URL\n"
     ]
    }
   ],
   "source": [
    "url_list = ['https://www.amazon.in/dp/B084R5KHMJ','https://www.amazon.in/gp/product/B07HGLBZ5R','https://www.amazon.in/dp/B08695Z3GR/']\n",
    "i = 1\n",
    "for url in url_list:\n",
    "    print('{}. Checking URL'.format(i))\n",
    "    update()\n",
    "    i = i + 1"
   ]
  },
  {
   "cell_type": "code",
   "execution_count": 14,
   "metadata": {},
   "outputs": [
    {
     "data": {
      "text/plain": [
       "{'B084R5KHMJ': {'ProductType': 'Smartphones',\n",
       "  'Time': '22:43:26 08/04/20',\n",
       "  'Product': 'POCO X2 (Phoenix Red, 6GB RAM, 128GB Storage)',\n",
       "  'By': 'POCO',\n",
       "  'URL': 'https://www.amazon.in/dp/B084R5KHMJ',\n",
       "  'Rating': '5.0 out of 5 stars',\n",
       "  'MRP': None,\n",
       "  'Price': None,\n",
       "  'dealPrice': None,\n",
       "  'InStock': 'yes'},\n",
       " 'B07HGLBZ5R': {'ProductType': 'Smartphones',\n",
       "  'Time': '22:43:57 08/04/20',\n",
       "  'Product': 'OnePlus 7 Pro (Mirror Grey, 8GB RAM, Fluid AMOLED Display, 256GB Storage, 4000mAH Battery)',\n",
       "  'By': 'OnePlus',\n",
       "  'URL': 'https://www.amazon.in/gp/product/B07HGLBZ5R',\n",
       "  'Rating': '4.5 out of 5 stars',\n",
       "  'MRP': ' 52,999.00',\n",
       "  'Price': '42,999.0',\n",
       "  'dealPrice': None,\n",
       "  'InStock': 'yes'},\n",
       " 'B08695Z3GR': {'ProductType': 'Smartphones',\n",
       "  'Time': '22:44:31 08/04/20',\n",
       "  'Product': 'OPPO Find X2 (Ocean, 12GB RAM, 256GB Storage) with No Cost EMI/Additional Bank Offers',\n",
       "  'By': 'Oppo',\n",
       "  'URL': 'https://www.amazon.in/dp/B08695Z3GR/',\n",
       "  'Rating': '4.3 out of 5 stars',\n",
       "  'MRP': ' 69,990.00',\n",
       "  'Price': None,\n",
       "  'dealPrice': '64,990.0',\n",
       "  'InStock': 'yes'}}"
      ]
     },
     "execution_count": 14,
     "metadata": {},
     "output_type": "execute_result"
    }
   ],
   "source": [
    "history"
   ]
  },
  {
   "cell_type": "code",
   "execution_count": 16,
   "metadata": {},
   "outputs": [],
   "source": [
    "url_list = ['https://www.amazon.in/3M-3M-6200-Facepiece-Respirator-Cartridges/dp/B013WCNHSO/',\n",
    " 'https://www.amazon.in/Antils-Disposable-3ply-Surgical-Elastic/dp/B085LQ2XYT/',\n",
    " 'https://www.amazon.in/Aurum-Creations-100-Disposable-Stretchable-White/dp/B01M61Z6ZG/',\n",
    " 'https://www.amazon.in/Aurum-Creations-Disposable-Cap-Gloves/dp/B01N434WX5/',\n",
    " 'https://www.amazon.in/Aurum-Creations-Disposable-Stretchable-100/dp/B0777HKWJF/',\n",
    " 'https://www.amazon.in/Aurum-Creations-Disposable-Stretchable-Bouffant/dp/B079QMPH7C/',\n",
    " 'https://www.amazon.in/Aurum-Creations-Disposable-Stretchable-White/dp/B074PSHZB8/',\n",
    " 'https://www.amazon.in/Gnexin-Approved-Respirator-Pollution-virus/dp/B084M511KM/',\n",
    " 'https://www.amazon.in/Ionix-Disposable-Non-Woven-Pollution-Protection/dp/B085LC3VJL/',\n",
    " 'https://www.amazon.in/Kodenipr-Woven-Disposable-Cover-Pieces/dp/B07QJVKMG3/',\n",
    " 'https://www.amazon.in/MELVIS-Disposable-3ply-Surgical-Elastic/dp/B085MM32PG/',\n",
    " 'https://www.amazon.in/Magnum-Flat-Respirator-NIOSH-Certification/dp/B085LJMWJ1/',\n",
    " 'https://www.amazon.in/Magnum-Flat-Respirator-NIOSH-Certification/dp/B085LKDMDF/',\n",
    " 'https://www.amazon.in/MaxPlay-Particulate-Disposable-Respirator-Packs-White/dp/B085LLFQVP/',\n",
    " 'https://www.amazon.in/Nulife-Nitrial-Examination-Gloves-Powder/dp/B07HYXFLD8/',\n",
    " 'https://www.amazon.in/Nuvo-Medsurg-Disposable-Surgeon-Pack/dp/B07DWZSC5W/',\n",
    " 'https://www.amazon.in/Pioneer-Medical-Examination-Powdered-Gloves/dp/B078HYQDX5/',\n",
    " 'https://www.amazon.in/Pollution-Filter-Allergy-Washable-Unisex/dp/B0844YVWYD/',\n",
    " 'https://www.amazon.in/PrimeStore-Premium-quality-Reusable-Surgeons/dp/B076GXKW7Z/',\n",
    " 'https://www.amazon.in/PrimeSurgicals-Premium-Unisex-EXCLUSIVE-warranty/dp/B07FHLY74Q/',\n",
    " 'https://www.amazon.in/Proexamine-Surgicals%C2%AE-Reusable-IMPERVIOUS-Material/dp/B07PZWY82Y/',\n",
    " 'https://www.amazon.in/Rudham-Disposable-Gloves-Pieces-Transparent/dp/B00LSSNIEI/',\n",
    " 'https://www.amazon.in/Safety-Products-woven-Beard-White/dp/B075WT2TT6/',\n",
    " 'https://www.amazon.in/Salus-Disposable-Surgical-Bouffant-Caps/dp/B0052GIM84/',\n",
    " 'https://www.amazon.in/SanNap-Disposable-Pollution-Surgical-Earloop/dp/B085M91SQD/',\n",
    " 'https://www.amazon.in/Smart-Care-Face-Cloth-Green/dp/B079CHH5M3/',\n",
    " 'https://www.amazon.in/Uniform-Craft-Womens-Polyester-Cotton/dp/B01MR3AJA1/',\n",
    " 'https://www.amazon.in/Warrior-Armory-Disposable-Mouth-Masks/dp/B085HXY874/',\n",
    " 'https://www.amazon.in/pollution-Virus-Control-Layer-Quality/dp/B085M7W1DH/',\n",
    " 'https://www.amazon.in/pollution-Virus-Control-Layer-women/dp/B085LB2GZY/',\n",
    " 'https://www.amazon.in/wowobjects-Standard-Disposable-Pollution-Surgical/dp/B084MKW34Q/']"
   ]
  },
  {
   "cell_type": "markdown",
   "metadata": {},
   "source": [
    "HTTPError: HTTP Error 503: Service Unavailable after some attempts if no headers are used\n",
    "because User-Agent for urllib is not a browser \n",
    "\n",
    "\n",
    "AMAZON MSG : - 'To discuss automated access to Amazon data please contact api-services-support@amazon.com. \n",
    "For information about migrating to our APIs refer to our Marketplace APIs \n",
    "at https://developer.amazonservices.com/ref=rm_5_sv, or our Product Advertising API \n",
    "at https://affiliate-program.amazon.com/gp/advertising/api/detail/main.html/ref=rm_5_ac \n",
    "for advertising use cases.'\n",
    "\n",
    "SO WE'LL USE HEADERS TO FOOL SERVER\n"
   ]
  },
  {
   "cell_type": "code",
   "execution_count": null,
   "metadata": {},
   "outputs": [],
   "source": [
    "!pip freeze"
   ]
  },
  {
   "cell_type": "code",
   "execution_count": 467,
   "metadata": {},
   "outputs": [],
   "source": [
    "!pip freeze | grep shub"
   ]
  }
 ],
 "metadata": {
  "kernelspec": {
   "display_name": "Python 3",
   "language": "python",
   "name": "python3"
  },
  "language_info": {
   "codemirror_mode": {
    "name": "ipython",
    "version": 3
   },
   "file_extension": ".py",
   "mimetype": "text/x-python",
   "name": "python",
   "nbconvert_exporter": "python",
   "pygments_lexer": "ipython3",
   "version": "3.7.7"
  }
 },
 "nbformat": 4,
 "nbformat_minor": 4
}
